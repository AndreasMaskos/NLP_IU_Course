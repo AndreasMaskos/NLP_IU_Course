{
  "nbformat": 4,
  "nbformat_minor": 0,
  "metadata": {
    "colab": {
      "provenance": [],
      "authorship_tag": "ABX9TyODwniLF6YrwyfZYr6Njkcr",
      "include_colab_link": true
    },
    "kernelspec": {
      "name": "python3",
      "display_name": "Python 3"
    },
    "language_info": {
      "name": "python"
    }
  },
  "cells": [
    {
      "cell_type": "markdown",
      "metadata": {
        "id": "view-in-github",
        "colab_type": "text"
      },
      "source": [
        "<a href=\"https://colab.research.google.com/github/AndreasMaskos/NLP_IU_Course/blob/main/Untitled1.ipynb\" target=\"_parent\"><img src=\"https://colab.research.google.com/assets/colab-badge.svg\" alt=\"Open In Colab\"/></a>"
      ]
    },
    {
      "cell_type": "markdown",
      "source": [
        "# Bag of Words\n",
        "## Hier wird der grundlegende Algorhythmus für BoW dargestellt !! also einfach allle Wörter die es gibt für die Länge eines Vektors dann einzelne Sätze vektorisieren also wie oft ein Wort in dem erstellten Gesamtvektor vertreten ist !!"
      ],
      "metadata": {
        "id": "NcEGLfH7WLkc"
      }
    },
    {
      "cell_type": "code",
      "execution_count": 4,
      "metadata": {
        "colab": {
          "base_uri": "https://localhost:8080/"
        },
        "id": "L-remUouR7na",
        "outputId": "b3232412-96a2-4acd-e22d-1b149261dbd0"
      },
      "outputs": [
        {
          "output_type": "stream",
          "name": "stderr",
          "text": [
            "[nltk_data] Downloading package punkt to /root/nltk_data...\n",
            "[nltk_data]   Unzipping tokenizers/punkt.zip.\n"
          ]
        },
        {
          "output_type": "execute_result",
          "data": {
            "text/plain": [
              "True"
            ]
          },
          "metadata": {},
          "execution_count": 4
        }
      ],
      "source": [
        "import numpy as np\n",
        "from nltk.tokenize import word_tokenize\n",
        "from collections import defaultdict\n",
        "\n",
        "import nltk\n",
        "nltk.download('punkt')"
      ]
    },
    {
      "cell_type": "code",
      "source": [
        "corpus = ['Loved the sound, no battery issues','Sound quality is good; battery life not good']\n",
        "reviews=[]\n",
        "vocabulary=[]\n",
        "\n",
        "for r in corpus:\n",
        "  print(r)\n",
        "  x=word_tokenize(r)\n",
        "  rev=[w.lower() for w in x if w.isalpha()]\n",
        "  print(rev)\n",
        "  reviews.append(rev)\n",
        "  for w in rev:\n",
        "    if w not in vocabulary:\n",
        "      vocabulary.append(w)\n",
        "\n",
        "len_vocabulary = len(vocabulary)\n",
        "\n",
        "print(vocabulary)\n",
        "\n"
      ],
      "metadata": {
        "colab": {
          "base_uri": "https://localhost:8080/"
        },
        "id": "yfj3wdpmR_Ba",
        "outputId": "7a38be31-a404-448a-f9a4-ce98dedc3a22"
      },
      "execution_count": 12,
      "outputs": [
        {
          "output_type": "stream",
          "name": "stdout",
          "text": [
            "Loved the sound, no battery issues\n",
            "['loved', 'the', 'sound', 'no', 'battery', 'issues']\n",
            "Sound quality is good; battery life not good\n",
            "['sound', 'quality', 'is', 'good', 'battery', 'life', 'not', 'good']\n",
            "['loved', 'the', 'sound', 'no', 'battery', 'issues', 'quality', 'is', 'good', 'life', 'not']\n"
          ]
        }
      ]
    },
    {
      "cell_type": "code",
      "source": [
        "index = {}\n",
        "i= 0\n",
        "for w in vocabulary:\n",
        " index[w] = i\n",
        " i += 1"
      ],
      "metadata": {
        "id": "3dKeclPHSexf"
      },
      "execution_count": 13,
      "outputs": []
    },
    {
      "cell_type": "code",
      "source": [
        "print(index)"
      ],
      "metadata": {
        "colab": {
          "base_uri": "https://localhost:8080/"
        },
        "id": "hLiofvLrUsUu",
        "outputId": "07db4717-4214-41e6-bc96-5cb92cf30810"
      },
      "execution_count": 14,
      "outputs": [
        {
          "output_type": "stream",
          "name": "stdout",
          "text": [
            "{'loved': 0, 'the': 1, 'sound': 2, 'no': 3, 'battery': 4, 'issues': 5, 'quality': 6, 'is': 7, 'good': 8, 'life': 9, 'not': 10}\n"
          ]
        }
      ]
    },
    {
      "cell_type": "code",
      "source": [
        "print(reviews)"
      ],
      "metadata": {
        "colab": {
          "base_uri": "https://localhost:8080/"
        },
        "id": "JD3p1Bq3VueM",
        "outputId": "c452490a-8b8d-4fd2-df73-a4c170e98efd"
      },
      "execution_count": 17,
      "outputs": [
        {
          "output_type": "stream",
          "name": "stdout",
          "text": [
            "[['loved', 'the', 'sound', 'no', 'battery', 'issues'], ['sound', 'quality', 'is', 'good', 'battery', 'life', 'not', 'good']]\n"
          ]
        }
      ]
    },
    {
      "cell_type": "code",
      "source": [
        "for i,x in enumerate(reviews):\n",
        "  print(i,x)\n",
        "  vector = np.zeros(len_vocabulary)\n",
        "  print(vector)\n",
        "  count_dictionary = defaultdict(int)\n",
        "  \n",
        "  for j in x:\n",
        "    count_dictionary[j] += 1\n",
        "    for k,t in count_dictionary.items():\n",
        "      print(count_dictionary)\n",
        "      vector[index[k]] = t\n",
        "  print(\"BoW for review \"+str(i)+\":\")\n",
        "  print(vector)"
      ],
      "metadata": {
        "colab": {
          "base_uri": "https://localhost:8080/"
        },
        "id": "hBv_mSS1SCKY",
        "outputId": "f27191c6-0f22-465b-ac57-f8bf28be5b86"
      },
      "execution_count": 16,
      "outputs": [
        {
          "output_type": "stream",
          "name": "stdout",
          "text": [
            "0 ['loved', 'the', 'sound', 'no', 'battery', 'issues']\n",
            "[0. 0. 0. 0. 0. 0. 0. 0. 0. 0. 0.]\n",
            "defaultdict(<class 'int'>, {'loved': 1})\n",
            "defaultdict(<class 'int'>, {'loved': 1, 'the': 1})\n",
            "defaultdict(<class 'int'>, {'loved': 1, 'the': 1})\n",
            "defaultdict(<class 'int'>, {'loved': 1, 'the': 1, 'sound': 1})\n",
            "defaultdict(<class 'int'>, {'loved': 1, 'the': 1, 'sound': 1})\n",
            "defaultdict(<class 'int'>, {'loved': 1, 'the': 1, 'sound': 1})\n",
            "defaultdict(<class 'int'>, {'loved': 1, 'the': 1, 'sound': 1, 'no': 1})\n",
            "defaultdict(<class 'int'>, {'loved': 1, 'the': 1, 'sound': 1, 'no': 1})\n",
            "defaultdict(<class 'int'>, {'loved': 1, 'the': 1, 'sound': 1, 'no': 1})\n",
            "defaultdict(<class 'int'>, {'loved': 1, 'the': 1, 'sound': 1, 'no': 1})\n",
            "defaultdict(<class 'int'>, {'loved': 1, 'the': 1, 'sound': 1, 'no': 1, 'battery': 1})\n",
            "defaultdict(<class 'int'>, {'loved': 1, 'the': 1, 'sound': 1, 'no': 1, 'battery': 1})\n",
            "defaultdict(<class 'int'>, {'loved': 1, 'the': 1, 'sound': 1, 'no': 1, 'battery': 1})\n",
            "defaultdict(<class 'int'>, {'loved': 1, 'the': 1, 'sound': 1, 'no': 1, 'battery': 1})\n",
            "defaultdict(<class 'int'>, {'loved': 1, 'the': 1, 'sound': 1, 'no': 1, 'battery': 1})\n",
            "defaultdict(<class 'int'>, {'loved': 1, 'the': 1, 'sound': 1, 'no': 1, 'battery': 1, 'issues': 1})\n",
            "defaultdict(<class 'int'>, {'loved': 1, 'the': 1, 'sound': 1, 'no': 1, 'battery': 1, 'issues': 1})\n",
            "defaultdict(<class 'int'>, {'loved': 1, 'the': 1, 'sound': 1, 'no': 1, 'battery': 1, 'issues': 1})\n",
            "defaultdict(<class 'int'>, {'loved': 1, 'the': 1, 'sound': 1, 'no': 1, 'battery': 1, 'issues': 1})\n",
            "defaultdict(<class 'int'>, {'loved': 1, 'the': 1, 'sound': 1, 'no': 1, 'battery': 1, 'issues': 1})\n",
            "defaultdict(<class 'int'>, {'loved': 1, 'the': 1, 'sound': 1, 'no': 1, 'battery': 1, 'issues': 1})\n",
            "BoW for review 0:\n",
            "[1. 1. 1. 1. 1. 1. 0. 0. 0. 0. 0.]\n",
            "1 ['sound', 'quality', 'is', 'good', 'battery', 'life', 'not', 'good']\n",
            "[0. 0. 0. 0. 0. 0. 0. 0. 0. 0. 0.]\n",
            "defaultdict(<class 'int'>, {'sound': 1})\n",
            "defaultdict(<class 'int'>, {'sound': 1, 'quality': 1})\n",
            "defaultdict(<class 'int'>, {'sound': 1, 'quality': 1})\n",
            "defaultdict(<class 'int'>, {'sound': 1, 'quality': 1, 'is': 1})\n",
            "defaultdict(<class 'int'>, {'sound': 1, 'quality': 1, 'is': 1})\n",
            "defaultdict(<class 'int'>, {'sound': 1, 'quality': 1, 'is': 1})\n",
            "defaultdict(<class 'int'>, {'sound': 1, 'quality': 1, 'is': 1, 'good': 1})\n",
            "defaultdict(<class 'int'>, {'sound': 1, 'quality': 1, 'is': 1, 'good': 1})\n",
            "defaultdict(<class 'int'>, {'sound': 1, 'quality': 1, 'is': 1, 'good': 1})\n",
            "defaultdict(<class 'int'>, {'sound': 1, 'quality': 1, 'is': 1, 'good': 1})\n",
            "defaultdict(<class 'int'>, {'sound': 1, 'quality': 1, 'is': 1, 'good': 1, 'battery': 1})\n",
            "defaultdict(<class 'int'>, {'sound': 1, 'quality': 1, 'is': 1, 'good': 1, 'battery': 1})\n",
            "defaultdict(<class 'int'>, {'sound': 1, 'quality': 1, 'is': 1, 'good': 1, 'battery': 1})\n",
            "defaultdict(<class 'int'>, {'sound': 1, 'quality': 1, 'is': 1, 'good': 1, 'battery': 1})\n",
            "defaultdict(<class 'int'>, {'sound': 1, 'quality': 1, 'is': 1, 'good': 1, 'battery': 1})\n",
            "defaultdict(<class 'int'>, {'sound': 1, 'quality': 1, 'is': 1, 'good': 1, 'battery': 1, 'life': 1})\n",
            "defaultdict(<class 'int'>, {'sound': 1, 'quality': 1, 'is': 1, 'good': 1, 'battery': 1, 'life': 1})\n",
            "defaultdict(<class 'int'>, {'sound': 1, 'quality': 1, 'is': 1, 'good': 1, 'battery': 1, 'life': 1})\n",
            "defaultdict(<class 'int'>, {'sound': 1, 'quality': 1, 'is': 1, 'good': 1, 'battery': 1, 'life': 1})\n",
            "defaultdict(<class 'int'>, {'sound': 1, 'quality': 1, 'is': 1, 'good': 1, 'battery': 1, 'life': 1})\n",
            "defaultdict(<class 'int'>, {'sound': 1, 'quality': 1, 'is': 1, 'good': 1, 'battery': 1, 'life': 1})\n",
            "defaultdict(<class 'int'>, {'sound': 1, 'quality': 1, 'is': 1, 'good': 1, 'battery': 1, 'life': 1, 'not': 1})\n",
            "defaultdict(<class 'int'>, {'sound': 1, 'quality': 1, 'is': 1, 'good': 1, 'battery': 1, 'life': 1, 'not': 1})\n",
            "defaultdict(<class 'int'>, {'sound': 1, 'quality': 1, 'is': 1, 'good': 1, 'battery': 1, 'life': 1, 'not': 1})\n",
            "defaultdict(<class 'int'>, {'sound': 1, 'quality': 1, 'is': 1, 'good': 1, 'battery': 1, 'life': 1, 'not': 1})\n",
            "defaultdict(<class 'int'>, {'sound': 1, 'quality': 1, 'is': 1, 'good': 1, 'battery': 1, 'life': 1, 'not': 1})\n",
            "defaultdict(<class 'int'>, {'sound': 1, 'quality': 1, 'is': 1, 'good': 1, 'battery': 1, 'life': 1, 'not': 1})\n",
            "defaultdict(<class 'int'>, {'sound': 1, 'quality': 1, 'is': 1, 'good': 1, 'battery': 1, 'life': 1, 'not': 1})\n",
            "defaultdict(<class 'int'>, {'sound': 1, 'quality': 1, 'is': 1, 'good': 2, 'battery': 1, 'life': 1, 'not': 1})\n",
            "defaultdict(<class 'int'>, {'sound': 1, 'quality': 1, 'is': 1, 'good': 2, 'battery': 1, 'life': 1, 'not': 1})\n",
            "defaultdict(<class 'int'>, {'sound': 1, 'quality': 1, 'is': 1, 'good': 2, 'battery': 1, 'life': 1, 'not': 1})\n",
            "defaultdict(<class 'int'>, {'sound': 1, 'quality': 1, 'is': 1, 'good': 2, 'battery': 1, 'life': 1, 'not': 1})\n",
            "defaultdict(<class 'int'>, {'sound': 1, 'quality': 1, 'is': 1, 'good': 2, 'battery': 1, 'life': 1, 'not': 1})\n",
            "defaultdict(<class 'int'>, {'sound': 1, 'quality': 1, 'is': 1, 'good': 2, 'battery': 1, 'life': 1, 'not': 1})\n",
            "defaultdict(<class 'int'>, {'sound': 1, 'quality': 1, 'is': 1, 'good': 2, 'battery': 1, 'life': 1, 'not': 1})\n",
            "BoW for review 1:\n",
            "[0. 0. 1. 0. 1. 0. 1. 1. 2. 1. 1.]\n"
          ]
        }
      ]
    },
    {
      "cell_type": "markdown",
      "source": [
        "nun die schnelle Implementierung mittels sklearn "
      ],
      "metadata": {
        "id": "D6yU_uucWirO"
      }
    },
    {
      "cell_type": "code",
      "source": [
        "import pandas as pd\n",
        "from sklearn.feature_extraction.text import CountVectorizer\n"
      ],
      "metadata": {
        "id": "A72EN0m-Wl8p"
      },
      "execution_count": 20,
      "outputs": []
    },
    {
      "cell_type": "code",
      "source": [
        "review_1=\"Loved the sound, no battery issues\"\n",
        "review_2=\"Sound quality is good; battery life not good\"\n",
        "\n",
        "vect = CountVectorizer()\n",
        "data = vect.fit_transform([review_1,review_2])\n",
        "\n",
        "data=pd.DataFrame(data.toarray(),columns=vect.get_feature_names_out())\n",
        "\n",
        "print(data)"
      ],
      "metadata": {
        "colab": {
          "base_uri": "https://localhost:8080/"
        },
        "id": "F2k49y6wW898",
        "outputId": "81745e37-0066-4c04-888c-9bb8ad9a104e"
      },
      "execution_count": 22,
      "outputs": [
        {
          "output_type": "stream",
          "name": "stdout",
          "text": [
            "   battery  good  is  issues  life  loved  no  not  quality  sound  the\n",
            "0        1     0   0       1     0      1   1    0        0      1    1\n",
            "1        1     2   1       0     1      0   0    1        1      1    0\n"
          ]
        }
      ]
    },
    {
      "cell_type": "markdown",
      "source": [
        "# Term Frequency-Inverse Document Frequency (TF-IDF)"
      ],
      "metadata": {
        "id": "bSH6zXhWYNL9"
      }
    },
    {
      "cell_type": "code",
      "source": [
        "import pandas as pd\n",
        "from sklearn.feature_extraction.text import TfidfVectorizer\n",
        "review_1 = \"Loved the sound, no battery issues\"\n",
        "review_2 = \"Sound quality is good; battery life not good\"\n",
        "vectorizer = TfidfVectorizer(min_df=1)\n",
        "model = vectorizer.fit_transform([review_1, review_2])\n",
        "data=pd.DataFrame(model.toarray(),columns=vectorizer.get_feature_names_out())\n",
        "print(data)"
      ],
      "metadata": {
        "colab": {
          "base_uri": "https://localhost:8080/"
        },
        "id": "9ZuyGlItYR22",
        "outputId": "ef3d8009-5c2f-47d5-e868-736fedd54af6"
      },
      "execution_count": 25,
      "outputs": [
        {
          "output_type": "stream",
          "name": "stdout",
          "text": [
            "    battery      good        is    issues      life     loved        no  \\\n",
            "0  0.317800  0.000000  0.000000  0.446656  0.000000  0.446656  0.446656   \n",
            "1  0.237005  0.666205  0.333102  0.000000  0.333102  0.000000  0.000000   \n",
            "\n",
            "        not   quality     sound       the  \n",
            "0  0.000000  0.000000  0.317800  0.446656  \n",
            "1  0.333102  0.333102  0.237005  0.000000  \n"
          ]
        }
      ]
    },
    {
      "cell_type": "markdown",
      "source": [
        "# Semantic analysis and SVD "
      ],
      "metadata": {
        "id": "9uSiIsRfeud2"
      }
    },
    {
      "cell_type": "code",
      "source": [
        "from sklearn.decomposition import TruncatedSVD\n",
        "review_1 = \"Loved the sound, no battery issues\"\n",
        "review_2 = \"Sound quality is good; battery life not good\"\n",
        "vectorizer = TfidfVectorizer(use_idf=True, max_features=5, smooth_idf=True)\n",
        "model = vectorizer.fit_transform([review_1, review_2])\n",
        "\n",
        "LSA_model = TruncatedSVD(n_components=2, algorithm='randomized', n_iter=10)\n",
        "lsa = LSA_model.fit_transform(model)\n",
        "l=lsa[0]\n",
        "\n",
        "print(\"Review 0 :\")\n",
        "\n",
        "for i,topic in enumerate(l):\n",
        " print(\"Topic \",i,\" : \",topic*100)"
      ],
      "metadata": {
        "colab": {
          "base_uri": "https://localhost:8080/"
        },
        "id": "Qm81D8SJezJM",
        "outputId": "00ea6c78-f4aa-459e-e17a-3d79ac69da24"
      },
      "execution_count": 26,
      "outputs": [
        {
          "output_type": "stream",
          "name": "stdout",
          "text": [
            "Review 0 :\n",
            "Topic  0  :  80.34516483217598\n",
            "Topic  1  :  59.537001000138346\n"
          ]
        }
      ]
    },
    {
      "cell_type": "markdown",
      "source": [
        "# Latent Dirichlet Allocation "
      ],
      "metadata": {
        "id": "E7GLqfQzhmg6"
      }
    },
    {
      "cell_type": "code",
      "source": [
        "from sklearn.decomposition import TruncatedSVD\n",
        "from sklearn.decomposition import LatentDirichletAllocation"
      ],
      "metadata": {
        "id": "Sq7Jna4GhsYL"
      },
      "execution_count": 27,
      "outputs": []
    },
    {
      "cell_type": "code",
      "source": [
        "review_1 = \"Loved the sound, no battery issues\"\n",
        "review_2 = \"Sound quality is good; battery life not good\"\n",
        "vectorizer = TfidfVectorizer(use_idf=True,\n",
        " max_features=5,\n",
        " smooth_idf=True)\n",
        "model = vectorizer.fit_transform([review_1, review_2])\n",
        "lda_model=LatentDirichletAllocation(n_components=2,learning_method='online',random_state = True)\n",
        "lda_top=lda_model.fit_transform(model)\n",
        "print(\"Review 1: \")\n",
        "\n",
        "for i,topic in enumerate(lda_top[0]):\n",
        " print(\"Topic \",i,\": \",topic*100,\"%\")"
      ],
      "metadata": {
        "colab": {
          "base_uri": "https://localhost:8080/"
        },
        "id": "c9xhJ2pWhvrf",
        "outputId": "2dd00d92-216a-47b9-a5bf-f8b05f005fe3"
      },
      "execution_count": 29,
      "outputs": [
        {
          "output_type": "stream",
          "name": "stdout",
          "text": [
            "Review 1: \n",
            "Topic  0 :  74.68746354753316 %\n",
            "Topic  1 :  25.312536452466855 %\n"
          ]
        }
      ]
    },
    {
      "cell_type": "markdown",
      "source": [
        "<h1>Daniel Bourke Tensor Flow<h1>"
      ],
      "metadata": {
        "id": "LoGioQkKjg73"
      }
    },
    {
      "cell_type": "code",
      "source": [],
      "metadata": {
        "id": "TQTWhzqWjgJe"
      },
      "execution_count": null,
      "outputs": []
    }
  ]
}